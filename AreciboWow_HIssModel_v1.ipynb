{
  "nbformat": 4,
  "nbformat_minor": 0,
  "metadata": {
    "colab": {
      "provenance": [],
      "authorship_tag": "ABX9TyOqieI71Jj2yYQRyTblASGl",
      "include_colab_link": true
    },
    "kernelspec": {
      "name": "python3",
      "display_name": "Python 3"
    },
    "language_info": {
      "name": "python"
    }
  },
  "cells": [
    {
      "cell_type": "markdown",
      "metadata": {
        "id": "view-in-github",
        "colab_type": "text"
      },
      "source": [
        "<a href=\"https://colab.research.google.com/github/seap-udea/AreciboWow/blob/main/AreciboWow_HIssModel_v1.ipynb\" target=\"_parent\"><img src=\"https://colab.research.google.com/assets/colab-badge.svg\" alt=\"Open In Colab\"/></a>"
      ]
    },
    {
      "cell_type": "markdown",
      "source": [
        "# Arecibo Wow!\n",
        "## The HIss model\n",
        "\n",
        "### Maintained by: Jorge I. Zuluaga"
      ],
      "metadata": {
        "id": "fU0dyVAlC5e4"
      }
    },
    {
      "cell_type": "markdown",
      "source": [
        "### Prerrequisites"
      ],
      "metadata": {
        "id": "R0D-wfEDDFtd"
      }
    },
    {
      "cell_type": "code",
      "source": [
        "!pip install -Uq astropy"
      ],
      "metadata": {
        "id": "4LbMWc_1DAOm"
      },
      "execution_count": 1,
      "outputs": []
    },
    {
      "cell_type": "code",
      "source": [],
      "metadata": {
        "id": "WqocFumsDFIN"
      },
      "execution_count": null,
      "outputs": []
    }
  ]
}